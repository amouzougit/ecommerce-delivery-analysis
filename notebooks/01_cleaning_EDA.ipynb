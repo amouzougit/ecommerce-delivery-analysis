{
 "cells": [
  {
   "cell_type": "markdown",
   "id": "f8b55851",
   "metadata": {},
   "source": [
    "##  Structure générale du notebook `01_cleaning_EDA.ipynb`\n",
    "\n",
    "Ce notebook est organisé en plusieurs sections logiques afin de conduire une **analyse exploratoire complète et structurée** du jeu de données `df`.\n",
    "\n",
    "### **1️⃣ Importation et chargement des données**\n",
    "Objectif : importer les bibliothèques nécessaires et charger le DataFrame `df` depuis le notebook précédent (`00_setup_data_load.ipynb`) ou depuis le fichier `.parquet`.\n",
    "\n",
    "> Vérifier que le chargement fonctionne et afficher les premières lignes pour un aperçu global.\n",
    "\n",
    "###  Vérification de la qualité des données**\n",
    "Objectif : évaluer la **qualité et la cohérence** des données.\n",
    "\n",
    "- Identifier les valeurs manquantes (`NaN`), doublons et incohérences.  \n",
    "- Examiner les types de colonnes et la présence de valeurs extrêmes.  \n",
    "- Calculer des statistiques descriptives de base.\n",
    "\n",
    "###  Nettoyage et préparation (si nécessaire)**\n",
    "Objectif : appliquer des **corrections légères** avant d’analyser.\n",
    "\n",
    "- Supprimer les enregistrements incomplets ou aberrants.  \n",
    "- Gérer les valeurs manquantes (remplissage ou suppression).  \n",
    "- Restreindre les délais à une plage raisonnable (ex. 0–60 jours).\n",
    "\n",
    "\n",
    "### Statistiques descriptives et agrégées**\n",
    "Objectif : obtenir une vue d’ensemble des **indicateurs clés** :\n",
    "\n",
    "- Taux de retard global (%).  \n",
    "- Délai moyen de livraison.  \n",
    "- Prix et poids moyens des produits.  \n",
    "- Répartition des paiements et du fret.\n",
    "\n",
    "\n",
    "### Analyse de corrélation**\n",
    "Objectif : comprendre les **relations entre variables** numériques.\n",
    "\n",
    "- Calculer la matrice de corrélation (Spearman).  \n",
    "- Identifier les variables fortement liées au retard (`delivered_late`).  \n",
    "- Visualiser les corrélations avec une *heatmap* interactive.\n",
    "\n",
    "### Analyse statistique (tests de différences)**\n",
    "Objectif : vérifier si certaines variables présentent des **différences significatives** entre :\n",
    "- commandes livrées à l’heure, et  \n",
    "- commandes livrées en retard.\n",
    "\n",
    "> Exemple : test de Mann–Whitney pour comparer le poids moyen ou le montant du fret.\n",
    "\n",
    "###  Visualisations exploratoires**\n",
    "Objectif : représenter graphiquement les **tendances clés** du dataset.\n",
    "\n",
    "- Histogrammes : distribution des délais (`days_to_deliver`).  \n",
    "- Boxplots : comparaison des délais et montants selon le statut de livraison.  \n",
    "- Cartes et barplots : retards par État, par catégorie produit ou par mois.  \n",
    "- Graphiques interactifs (Plotly).\n",
    "\n",
    "### Synthèse et insights business**\n",
    "Objectif : extraire les **enseignements clés** de l’analyse exploratoire.\n",
    "\n",
    "- Résumer les principales observations (corrélations, anomalies, tendances).  \n",
    "- Identifier les **leviers d’amélioration logistique** (transport, vendeur, catégories).  \n",
    "- Préparer la transition vers la phase de modélisation (`02_model_evaluation.ipynb`).\n",
    "\n",
    " **Conclusion :**\n",
    "Ce notebook te permettra de transformer ton jeu de données en **connaissance utile**, et d’identifier les **facteurs influençant le retard de livraison** — étape essentielle avant toute modélisation prédictive.\n"
   ]
  },
  {
   "cell_type": "code",
   "execution_count": 6,
   "id": "c31be34c",
   "metadata": {},
   "outputs": [
    {
     "name": "stdout",
     "output_type": "stream",
     "text": [
      "✅ Données CSV fusionnées : (113425, 28)\n"
     ]
    },
    {
     "data": {
      "text/html": [
       "<div>\n",
       "<style scoped>\n",
       "    .dataframe tbody tr th:only-of-type {\n",
       "        vertical-align: middle;\n",
       "    }\n",
       "\n",
       "    .dataframe tbody tr th {\n",
       "        vertical-align: top;\n",
       "    }\n",
       "\n",
       "    .dataframe thead th {\n",
       "        text-align: right;\n",
       "    }\n",
       "</style>\n",
       "<table border=\"1\" class=\"dataframe\">\n",
       "  <thead>\n",
       "    <tr style=\"text-align: right;\">\n",
       "      <th></th>\n",
       "      <th>order_id</th>\n",
       "      <th>customer_id</th>\n",
       "      <th>order_status</th>\n",
       "      <th>order_purchase_timestamp</th>\n",
       "      <th>order_approved_at</th>\n",
       "      <th>order_delivered_carrier_date</th>\n",
       "      <th>order_delivered_customer_date</th>\n",
       "      <th>order_estimated_delivery_date</th>\n",
       "      <th>order_item_id</th>\n",
       "      <th>product_id</th>\n",
       "      <th>...</th>\n",
       "      <th>product_weight_g</th>\n",
       "      <th>product_length_cm</th>\n",
       "      <th>product_height_cm</th>\n",
       "      <th>product_width_cm</th>\n",
       "      <th>payment_value</th>\n",
       "      <th>payment_installments</th>\n",
       "      <th>customer_city</th>\n",
       "      <th>customer_state</th>\n",
       "      <th>seller_city</th>\n",
       "      <th>seller_state</th>\n",
       "    </tr>\n",
       "  </thead>\n",
       "  <tbody>\n",
       "    <tr>\n",
       "      <th>0</th>\n",
       "      <td>e481f51cbdc54678b7cc49136f2d6af7</td>\n",
       "      <td>9ef432eb6251297304e76186b10a928d</td>\n",
       "      <td>delivered</td>\n",
       "      <td>2017-10-02 10:56:33</td>\n",
       "      <td>2017-10-02 11:07:15</td>\n",
       "      <td>2017-10-04 19:55:00</td>\n",
       "      <td>2017-10-10 21:25:13</td>\n",
       "      <td>2017-10-18</td>\n",
       "      <td>1.0</td>\n",
       "      <td>87285b34884572647811a353c7ac498a</td>\n",
       "      <td>...</td>\n",
       "      <td>500.0</td>\n",
       "      <td>19.0</td>\n",
       "      <td>8.0</td>\n",
       "      <td>13.0</td>\n",
       "      <td>38.71</td>\n",
       "      <td>1.0</td>\n",
       "      <td>sao paulo</td>\n",
       "      <td>SP</td>\n",
       "      <td>maua</td>\n",
       "      <td>SP</td>\n",
       "    </tr>\n",
       "    <tr>\n",
       "      <th>1</th>\n",
       "      <td>53cdb2fc8bc7dce0b6741e2150273451</td>\n",
       "      <td>b0830fb4747a6c6d20dea0b8c802d7ef</td>\n",
       "      <td>delivered</td>\n",
       "      <td>2018-07-24 20:41:37</td>\n",
       "      <td>2018-07-26 03:24:27</td>\n",
       "      <td>2018-07-26 14:31:00</td>\n",
       "      <td>2018-08-07 15:27:45</td>\n",
       "      <td>2018-08-13</td>\n",
       "      <td>1.0</td>\n",
       "      <td>595fac2a385ac33a80bd5114aec74eb8</td>\n",
       "      <td>...</td>\n",
       "      <td>400.0</td>\n",
       "      <td>19.0</td>\n",
       "      <td>13.0</td>\n",
       "      <td>19.0</td>\n",
       "      <td>141.46</td>\n",
       "      <td>1.0</td>\n",
       "      <td>barreiras</td>\n",
       "      <td>BA</td>\n",
       "      <td>belo horizonte</td>\n",
       "      <td>SP</td>\n",
       "    </tr>\n",
       "    <tr>\n",
       "      <th>2</th>\n",
       "      <td>47770eb9100c2d0c44946d9cf07ec65d</td>\n",
       "      <td>41ce2a54c0b03bf3443c3d931a367089</td>\n",
       "      <td>delivered</td>\n",
       "      <td>2018-08-08 08:38:49</td>\n",
       "      <td>2018-08-08 08:55:23</td>\n",
       "      <td>2018-08-08 13:50:00</td>\n",
       "      <td>2018-08-17 18:06:29</td>\n",
       "      <td>2018-09-04</td>\n",
       "      <td>1.0</td>\n",
       "      <td>aa4383b373c6aca5d8797843e5594415</td>\n",
       "      <td>...</td>\n",
       "      <td>420.0</td>\n",
       "      <td>24.0</td>\n",
       "      <td>19.0</td>\n",
       "      <td>21.0</td>\n",
       "      <td>179.12</td>\n",
       "      <td>3.0</td>\n",
       "      <td>vianopolis</td>\n",
       "      <td>GO</td>\n",
       "      <td>guariba</td>\n",
       "      <td>SP</td>\n",
       "    </tr>\n",
       "  </tbody>\n",
       "</table>\n",
       "<p>3 rows × 28 columns</p>\n",
       "</div>"
      ],
      "text/plain": [
       "                           order_id                       customer_id  \\\n",
       "0  e481f51cbdc54678b7cc49136f2d6af7  9ef432eb6251297304e76186b10a928d   \n",
       "1  53cdb2fc8bc7dce0b6741e2150273451  b0830fb4747a6c6d20dea0b8c802d7ef   \n",
       "2  47770eb9100c2d0c44946d9cf07ec65d  41ce2a54c0b03bf3443c3d931a367089   \n",
       "\n",
       "  order_status order_purchase_timestamp   order_approved_at  \\\n",
       "0    delivered      2017-10-02 10:56:33 2017-10-02 11:07:15   \n",
       "1    delivered      2018-07-24 20:41:37 2018-07-26 03:24:27   \n",
       "2    delivered      2018-08-08 08:38:49 2018-08-08 08:55:23   \n",
       "\n",
       "  order_delivered_carrier_date order_delivered_customer_date  \\\n",
       "0          2017-10-04 19:55:00           2017-10-10 21:25:13   \n",
       "1          2018-07-26 14:31:00           2018-08-07 15:27:45   \n",
       "2          2018-08-08 13:50:00           2018-08-17 18:06:29   \n",
       "\n",
       "  order_estimated_delivery_date  order_item_id  \\\n",
       "0                    2017-10-18            1.0   \n",
       "1                    2018-08-13            1.0   \n",
       "2                    2018-09-04            1.0   \n",
       "\n",
       "                         product_id  ... product_weight_g product_length_cm  \\\n",
       "0  87285b34884572647811a353c7ac498a  ...            500.0              19.0   \n",
       "1  595fac2a385ac33a80bd5114aec74eb8  ...            400.0              19.0   \n",
       "2  aa4383b373c6aca5d8797843e5594415  ...            420.0              24.0   \n",
       "\n",
       "   product_height_cm  product_width_cm payment_value  payment_installments  \\\n",
       "0                8.0              13.0         38.71                   1.0   \n",
       "1               13.0              19.0        141.46                   1.0   \n",
       "2               19.0              21.0        179.12                   3.0   \n",
       "\n",
       "   customer_city  customer_state     seller_city  seller_state  \n",
       "0      sao paulo              SP            maua            SP  \n",
       "1      barreiras              BA  belo horizonte            SP  \n",
       "2     vianopolis              GO         guariba            SP  \n",
       "\n",
       "[3 rows x 28 columns]"
      ]
     },
     "metadata": {},
     "output_type": "display_data"
    },
    {
     "name": "stdout",
     "output_type": "stream",
     "text": [
      "\n",
      "Colonnes disponibles :\n",
      "['order_id', 'customer_id', 'order_status', 'order_purchase_timestamp', 'order_approved_at', 'order_delivered_carrier_date', 'order_delivered_customer_date', 'order_estimated_delivery_date', 'order_item_id', 'product_id', 'seller_id', 'shipping_limit_date', 'price', 'freight_value', 'product_category_name'] ...\n"
     ]
    }
   ],
   "source": [
    "# Importation des bibliothèques & chargement du DataFrame\n",
    "\n",
    "# --- Import des librairies principales ---\n",
    "import os\n",
    "from pathlib import Path\n",
    "import pandas as pd\n",
    "import numpy as np\n",
    "import plotly.express as px\n",
    "import plotly.figure_factory as ff\n",
    "from scipy import stats\n",
    "\n",
    "\n",
    "# --- Chargement du DataFrame ---\n",
    "if DATA_PATH.exists():\n",
    "    df = pd.read_parquet(DATA_PATH)\n",
    "    print(\"✅ Fichier Parquet chargé :\", df.shape)\n",
    "else:\n",
    "\n",
    "    DATA = Path(\"../data\")\n",
    "    orders = pd.read_csv(DATA/\"olist_orders_dataset.csv\",\n",
    "                         parse_dates=[\n",
    "                             \"order_purchase_timestamp\", \"order_approved_at\",\n",
    "                             \"order_delivered_carrier_date\", \"order_delivered_customer_date\",\n",
    "                             \"order_estimated_delivery_date\"\n",
    "                         ])\n",
    "    items = pd.read_csv(DATA/\"olist_order_items_dataset.csv\")\n",
    "    products = pd.read_csv(DATA/\"olist_products_dataset.csv\")\n",
    "    cust = pd.read_csv(DATA/\"olist_customers_dataset.csv\")\n",
    "    sellers = pd.read_csv(DATA/\"olist_sellers_dataset.csv\")\n",
    "    pay = pd.read_csv(DATA/\"olist_order_payments_dataset.csv\")\n",
    "\n",
    "    # --- Fusion rapide (vue simplifiée pour l'EDA) ---\n",
    "    df = (\n",
    "        orders\n",
    "        .merge(items, on=\"order_id\", how=\"left\")\n",
    "        .merge(products, on=\"product_id\", how=\"left\")\n",
    "        .merge(\n",
    "            pay.groupby(\"order_id\", as_index=False)\n",
    "               .agg({\"payment_value\": \"sum\", \"payment_installments\": \"max\"}),\n",
    "            on=\"order_id\", how=\"left\"\n",
    "        )\n",
    "        .merge(\n",
    "            cust[[\"customer_id\",\"customer_city\",\"customer_state\"]],\n",
    "            on=\"customer_id\", how=\"left\"\n",
    "        )\n",
    "        .merge(\n",
    "            sellers[[\"seller_id\",\"seller_city\",\"seller_state\"]],\n",
    "            on=\"seller_id\", how=\"left\"\n",
    "        )\n",
    "    )\n",
    "    print(\" Données CSV fusionnées :\", df.shape)\n",
    "\n",
    "# --- Aperçu des premières lignes ---\n",
    "display(df.head(3))\n",
    "\n",
    "# --- Vérification des colonnes principales ---\n",
    "print(\"\\nColonnes disponibles :\")\n",
    "print(df.columns.tolist()[:15], \"...\")\n"
   ]
  },
  {
   "cell_type": "markdown",
   "id": "ff546c15",
   "metadata": {},
   "source": [
    "# Vérification de la qualité des données"
   ]
  },
  {
   "cell_type": "code",
   "execution_count": 8,
   "id": "651fb597",
   "metadata": {},
   "outputs": [
    {
     "name": "stdout",
     "output_type": "stream",
     "text": [
      "<class 'pandas.core.frame.DataFrame'>\n",
      "RangeIndex: 113425 entries, 0 to 113424\n",
      "Data columns (total 28 columns):\n",
      " #   Column                         Non-Null Count   Dtype         \n",
      "---  ------                         --------------   -----         \n",
      " 0   order_id                       113425 non-null  object        \n",
      " 1   customer_id                    113425 non-null  object        \n",
      " 2   order_status                   113425 non-null  object        \n",
      " 3   order_purchase_timestamp       113425 non-null  datetime64[ns]\n",
      " 4   order_approved_at              113264 non-null  datetime64[ns]\n",
      " 5   order_delivered_carrier_date   111457 non-null  datetime64[ns]\n",
      " 6   order_delivered_customer_date  110196 non-null  datetime64[ns]\n",
      " 7   order_estimated_delivery_date  113425 non-null  datetime64[ns]\n",
      " 8   order_item_id                  112650 non-null  float64       \n",
      " 9   product_id                     112650 non-null  object        \n",
      " 10  seller_id                      112650 non-null  object        \n",
      " 11  shipping_limit_date            112650 non-null  object        \n",
      " 12  price                          112650 non-null  float64       \n",
      " 13  freight_value                  112650 non-null  float64       \n",
      " 14  product_category_name          111047 non-null  object        \n",
      " 15  product_name_lenght            111047 non-null  float64       \n",
      " 16  product_description_lenght     111047 non-null  float64       \n",
      " 17  product_photos_qty             111047 non-null  float64       \n",
      " 18  product_weight_g               112632 non-null  float64       \n",
      " 19  product_length_cm              112632 non-null  float64       \n",
      " 20  product_height_cm              112632 non-null  float64       \n",
      " 21  product_width_cm               112632 non-null  float64       \n",
      " 22  payment_value                  113422 non-null  float64       \n",
      " 23  payment_installments           113422 non-null  float64       \n",
      " 24  customer_city                  113425 non-null  object        \n",
      " 25  customer_state                 113425 non-null  object        \n",
      " 26  seller_city                    112650 non-null  object        \n",
      " 27  seller_state                   112650 non-null  object        \n",
      "dtypes: datetime64[ns](5), float64(12), object(11)\n",
      "memory usage: 24.2+ MB\n"
     ]
    }
   ],
   "source": [
    "# --- 2.1 Structure générale du DataFrame ---\n",
    "df.info()"
   ]
  },
  {
   "cell_type": "code",
   "execution_count": 9,
   "id": "699cfb8e",
   "metadata": {},
   "outputs": [
    {
     "data": {
      "text/html": [
       "<div>\n",
       "<style scoped>\n",
       "    .dataframe tbody tr th:only-of-type {\n",
       "        vertical-align: middle;\n",
       "    }\n",
       "\n",
       "    .dataframe tbody tr th {\n",
       "        vertical-align: top;\n",
       "    }\n",
       "\n",
       "    .dataframe thead th {\n",
       "        text-align: right;\n",
       "    }\n",
       "</style>\n",
       "<table border=\"1\" class=\"dataframe\">\n",
       "  <thead>\n",
       "    <tr style=\"text-align: right;\">\n",
       "      <th></th>\n",
       "      <th>order_id</th>\n",
       "      <th>customer_id</th>\n",
       "      <th>order_status</th>\n",
       "      <th>order_purchase_timestamp</th>\n",
       "      <th>order_approved_at</th>\n",
       "      <th>order_delivered_carrier_date</th>\n",
       "      <th>order_delivered_customer_date</th>\n",
       "      <th>order_estimated_delivery_date</th>\n",
       "      <th>order_item_id</th>\n",
       "      <th>product_id</th>\n",
       "      <th>...</th>\n",
       "      <th>product_weight_g</th>\n",
       "      <th>product_length_cm</th>\n",
       "      <th>product_height_cm</th>\n",
       "      <th>product_width_cm</th>\n",
       "      <th>payment_value</th>\n",
       "      <th>payment_installments</th>\n",
       "      <th>customer_city</th>\n",
       "      <th>customer_state</th>\n",
       "      <th>seller_city</th>\n",
       "      <th>seller_state</th>\n",
       "    </tr>\n",
       "  </thead>\n",
       "  <tbody>\n",
       "    <tr>\n",
       "      <th>0</th>\n",
       "      <td>e481f51cbdc54678b7cc49136f2d6af7</td>\n",
       "      <td>9ef432eb6251297304e76186b10a928d</td>\n",
       "      <td>delivered</td>\n",
       "      <td>2017-10-02 10:56:33</td>\n",
       "      <td>2017-10-02 11:07:15</td>\n",
       "      <td>2017-10-04 19:55:00</td>\n",
       "      <td>2017-10-10 21:25:13</td>\n",
       "      <td>2017-10-18</td>\n",
       "      <td>1.0</td>\n",
       "      <td>87285b34884572647811a353c7ac498a</td>\n",
       "      <td>...</td>\n",
       "      <td>500.0</td>\n",
       "      <td>19.0</td>\n",
       "      <td>8.0</td>\n",
       "      <td>13.0</td>\n",
       "      <td>38.71</td>\n",
       "      <td>1.0</td>\n",
       "      <td>sao paulo</td>\n",
       "      <td>SP</td>\n",
       "      <td>maua</td>\n",
       "      <td>SP</td>\n",
       "    </tr>\n",
       "    <tr>\n",
       "      <th>1</th>\n",
       "      <td>53cdb2fc8bc7dce0b6741e2150273451</td>\n",
       "      <td>b0830fb4747a6c6d20dea0b8c802d7ef</td>\n",
       "      <td>delivered</td>\n",
       "      <td>2018-07-24 20:41:37</td>\n",
       "      <td>2018-07-26 03:24:27</td>\n",
       "      <td>2018-07-26 14:31:00</td>\n",
       "      <td>2018-08-07 15:27:45</td>\n",
       "      <td>2018-08-13</td>\n",
       "      <td>1.0</td>\n",
       "      <td>595fac2a385ac33a80bd5114aec74eb8</td>\n",
       "      <td>...</td>\n",
       "      <td>400.0</td>\n",
       "      <td>19.0</td>\n",
       "      <td>13.0</td>\n",
       "      <td>19.0</td>\n",
       "      <td>141.46</td>\n",
       "      <td>1.0</td>\n",
       "      <td>barreiras</td>\n",
       "      <td>BA</td>\n",
       "      <td>belo horizonte</td>\n",
       "      <td>SP</td>\n",
       "    </tr>\n",
       "    <tr>\n",
       "      <th>2</th>\n",
       "      <td>47770eb9100c2d0c44946d9cf07ec65d</td>\n",
       "      <td>41ce2a54c0b03bf3443c3d931a367089</td>\n",
       "      <td>delivered</td>\n",
       "      <td>2018-08-08 08:38:49</td>\n",
       "      <td>2018-08-08 08:55:23</td>\n",
       "      <td>2018-08-08 13:50:00</td>\n",
       "      <td>2018-08-17 18:06:29</td>\n",
       "      <td>2018-09-04</td>\n",
       "      <td>1.0</td>\n",
       "      <td>aa4383b373c6aca5d8797843e5594415</td>\n",
       "      <td>...</td>\n",
       "      <td>420.0</td>\n",
       "      <td>24.0</td>\n",
       "      <td>19.0</td>\n",
       "      <td>21.0</td>\n",
       "      <td>179.12</td>\n",
       "      <td>3.0</td>\n",
       "      <td>vianopolis</td>\n",
       "      <td>GO</td>\n",
       "      <td>guariba</td>\n",
       "      <td>SP</td>\n",
       "    </tr>\n",
       "    <tr>\n",
       "      <th>3</th>\n",
       "      <td>949d5b44dbf5de918fe9c16f97b45f8a</td>\n",
       "      <td>f88197465ea7920adcdbec7375364d82</td>\n",
       "      <td>delivered</td>\n",
       "      <td>2017-11-18 19:28:06</td>\n",
       "      <td>2017-11-18 19:45:59</td>\n",
       "      <td>2017-11-22 13:39:59</td>\n",
       "      <td>2017-12-02 00:28:42</td>\n",
       "      <td>2017-12-15</td>\n",
       "      <td>1.0</td>\n",
       "      <td>d0b61bfb1de832b15ba9d266ca96e5b0</td>\n",
       "      <td>...</td>\n",
       "      <td>450.0</td>\n",
       "      <td>30.0</td>\n",
       "      <td>10.0</td>\n",
       "      <td>20.0</td>\n",
       "      <td>72.20</td>\n",
       "      <td>1.0</td>\n",
       "      <td>sao goncalo do amarante</td>\n",
       "      <td>RN</td>\n",
       "      <td>belo horizonte</td>\n",
       "      <td>MG</td>\n",
       "    </tr>\n",
       "    <tr>\n",
       "      <th>4</th>\n",
       "      <td>ad21c59c0840e6cb83a9ceb5573f8159</td>\n",
       "      <td>8ab97904e6daea8866dbdbc4fb7aad2c</td>\n",
       "      <td>delivered</td>\n",
       "      <td>2018-02-13 21:18:39</td>\n",
       "      <td>2018-02-13 22:20:29</td>\n",
       "      <td>2018-02-14 19:46:34</td>\n",
       "      <td>2018-02-16 18:17:02</td>\n",
       "      <td>2018-02-26</td>\n",
       "      <td>1.0</td>\n",
       "      <td>65266b2da20d04dbe00c5c2d3bb7859e</td>\n",
       "      <td>...</td>\n",
       "      <td>250.0</td>\n",
       "      <td>51.0</td>\n",
       "      <td>15.0</td>\n",
       "      <td>15.0</td>\n",
       "      <td>28.62</td>\n",
       "      <td>1.0</td>\n",
       "      <td>santo andre</td>\n",
       "      <td>SP</td>\n",
       "      <td>mogi das cruzes</td>\n",
       "      <td>SP</td>\n",
       "    </tr>\n",
       "  </tbody>\n",
       "</table>\n",
       "<p>5 rows × 28 columns</p>\n",
       "</div>"
      ],
      "text/plain": [
       "                           order_id                       customer_id  \\\n",
       "0  e481f51cbdc54678b7cc49136f2d6af7  9ef432eb6251297304e76186b10a928d   \n",
       "1  53cdb2fc8bc7dce0b6741e2150273451  b0830fb4747a6c6d20dea0b8c802d7ef   \n",
       "2  47770eb9100c2d0c44946d9cf07ec65d  41ce2a54c0b03bf3443c3d931a367089   \n",
       "3  949d5b44dbf5de918fe9c16f97b45f8a  f88197465ea7920adcdbec7375364d82   \n",
       "4  ad21c59c0840e6cb83a9ceb5573f8159  8ab97904e6daea8866dbdbc4fb7aad2c   \n",
       "\n",
       "  order_status order_purchase_timestamp   order_approved_at  \\\n",
       "0    delivered      2017-10-02 10:56:33 2017-10-02 11:07:15   \n",
       "1    delivered      2018-07-24 20:41:37 2018-07-26 03:24:27   \n",
       "2    delivered      2018-08-08 08:38:49 2018-08-08 08:55:23   \n",
       "3    delivered      2017-11-18 19:28:06 2017-11-18 19:45:59   \n",
       "4    delivered      2018-02-13 21:18:39 2018-02-13 22:20:29   \n",
       "\n",
       "  order_delivered_carrier_date order_delivered_customer_date  \\\n",
       "0          2017-10-04 19:55:00           2017-10-10 21:25:13   \n",
       "1          2018-07-26 14:31:00           2018-08-07 15:27:45   \n",
       "2          2018-08-08 13:50:00           2018-08-17 18:06:29   \n",
       "3          2017-11-22 13:39:59           2017-12-02 00:28:42   \n",
       "4          2018-02-14 19:46:34           2018-02-16 18:17:02   \n",
       "\n",
       "  order_estimated_delivery_date  order_item_id  \\\n",
       "0                    2017-10-18            1.0   \n",
       "1                    2018-08-13            1.0   \n",
       "2                    2018-09-04            1.0   \n",
       "3                    2017-12-15            1.0   \n",
       "4                    2018-02-26            1.0   \n",
       "\n",
       "                         product_id  ... product_weight_g product_length_cm  \\\n",
       "0  87285b34884572647811a353c7ac498a  ...            500.0              19.0   \n",
       "1  595fac2a385ac33a80bd5114aec74eb8  ...            400.0              19.0   \n",
       "2  aa4383b373c6aca5d8797843e5594415  ...            420.0              24.0   \n",
       "3  d0b61bfb1de832b15ba9d266ca96e5b0  ...            450.0              30.0   \n",
       "4  65266b2da20d04dbe00c5c2d3bb7859e  ...            250.0              51.0   \n",
       "\n",
       "   product_height_cm  product_width_cm payment_value  payment_installments  \\\n",
       "0                8.0              13.0         38.71                   1.0   \n",
       "1               13.0              19.0        141.46                   1.0   \n",
       "2               19.0              21.0        179.12                   3.0   \n",
       "3               10.0              20.0         72.20                   1.0   \n",
       "4               15.0              15.0         28.62                   1.0   \n",
       "\n",
       "             customer_city  customer_state      seller_city  seller_state  \n",
       "0                sao paulo              SP             maua            SP  \n",
       "1                barreiras              BA   belo horizonte            SP  \n",
       "2               vianopolis              GO          guariba            SP  \n",
       "3  sao goncalo do amarante              RN   belo horizonte            MG  \n",
       "4              santo andre              SP  mogi das cruzes            SP  \n",
       "\n",
       "[5 rows x 28 columns]"
      ]
     },
     "metadata": {},
     "output_type": "display_data"
    }
   ],
   "source": [
    "# --- 2.2 Aperçu des premières lignes ---\n",
    "display(df.head(5))"
   ]
  },
  {
   "cell_type": "code",
   "execution_count": 10,
   "id": "a125eec9",
   "metadata": {},
   "outputs": [
    {
     "data": {
      "text/html": [
       "<div>\n",
       "<style scoped>\n",
       "    .dataframe tbody tr th:only-of-type {\n",
       "        vertical-align: middle;\n",
       "    }\n",
       "\n",
       "    .dataframe tbody tr th {\n",
       "        vertical-align: top;\n",
       "    }\n",
       "\n",
       "    .dataframe thead th {\n",
       "        text-align: right;\n",
       "    }\n",
       "</style>\n",
       "<table border=\"1\" class=\"dataframe\">\n",
       "  <thead>\n",
       "    <tr style=\"text-align: right;\">\n",
       "      <th></th>\n",
       "      <th>nb_valeurs_manquantes</th>\n",
       "      <th>pourcentage</th>\n",
       "    </tr>\n",
       "  </thead>\n",
       "  <tbody>\n",
       "    <tr>\n",
       "      <th>order_delivered_customer_date</th>\n",
       "      <td>3229</td>\n",
       "      <td>2.846815</td>\n",
       "    </tr>\n",
       "    <tr>\n",
       "      <th>product_photos_qty</th>\n",
       "      <td>2378</td>\n",
       "      <td>2.096540</td>\n",
       "    </tr>\n",
       "    <tr>\n",
       "      <th>product_category_name</th>\n",
       "      <td>2378</td>\n",
       "      <td>2.096540</td>\n",
       "    </tr>\n",
       "    <tr>\n",
       "      <th>product_name_lenght</th>\n",
       "      <td>2378</td>\n",
       "      <td>2.096540</td>\n",
       "    </tr>\n",
       "    <tr>\n",
       "      <th>product_description_lenght</th>\n",
       "      <td>2378</td>\n",
       "      <td>2.096540</td>\n",
       "    </tr>\n",
       "    <tr>\n",
       "      <th>order_delivered_carrier_date</th>\n",
       "      <td>1968</td>\n",
       "      <td>1.735067</td>\n",
       "    </tr>\n",
       "    <tr>\n",
       "      <th>product_length_cm</th>\n",
       "      <td>793</td>\n",
       "      <td>0.699140</td>\n",
       "    </tr>\n",
       "    <tr>\n",
       "      <th>product_weight_g</th>\n",
       "      <td>793</td>\n",
       "      <td>0.699140</td>\n",
       "    </tr>\n",
       "    <tr>\n",
       "      <th>product_height_cm</th>\n",
       "      <td>793</td>\n",
       "      <td>0.699140</td>\n",
       "    </tr>\n",
       "    <tr>\n",
       "      <th>product_width_cm</th>\n",
       "      <td>793</td>\n",
       "      <td>0.699140</td>\n",
       "    </tr>\n",
       "  </tbody>\n",
       "</table>\n",
       "</div>"
      ],
      "text/plain": [
       "                               nb_valeurs_manquantes  pourcentage\n",
       "order_delivered_customer_date                   3229     2.846815\n",
       "product_photos_qty                              2378     2.096540\n",
       "product_category_name                           2378     2.096540\n",
       "product_name_lenght                             2378     2.096540\n",
       "product_description_lenght                      2378     2.096540\n",
       "order_delivered_carrier_date                    1968     1.735067\n",
       "product_length_cm                                793     0.699140\n",
       "product_weight_g                                 793     0.699140\n",
       "product_height_cm                                793     0.699140\n",
       "product_width_cm                                 793     0.699140"
      ]
     },
     "metadata": {},
     "output_type": "display_data"
    }
   ],
   "source": [
    "# --- 2.3 Vérification des valeurs manquantes ---\n",
    "missing_values = (\n",
    "    df.isna()\n",
    "      .sum()\n",
    "      .sort_values(ascending=False)\n",
    "      .to_frame(\"nb_valeurs_manquantes\")\n",
    ")\n",
    "missing_values[\"pourcentage\"] = 100 * missing_values[\"nb_valeurs_manquantes\"] / len(df)\n",
    "display(missing_values.head(10))"
   ]
  },
  {
   "cell_type": "code",
   "execution_count": 11,
   "id": "567ff0a8",
   "metadata": {},
   "outputs": [
    {
     "name": "stdout",
     "output_type": "stream",
     "text": [
      "🧩 Nombre de doublons détectés : 0\n"
     ]
    }
   ],
   "source": [
    "# --- 2.4 Vérification des doublons ---\n",
    "nb_duplicates = df.duplicated().sum()\n",
    "print(f\"🧩 Nombre de doublons détectés : {nb_duplicates}\")"
   ]
  },
  {
   "cell_type": "code",
   "execution_count": 12,
   "id": "6f1040c2",
   "metadata": {},
   "outputs": [
    {
     "data": {
      "text/html": [
       "<div>\n",
       "<style scoped>\n",
       "    .dataframe tbody tr th:only-of-type {\n",
       "        vertical-align: middle;\n",
       "    }\n",
       "\n",
       "    .dataframe tbody tr th {\n",
       "        vertical-align: top;\n",
       "    }\n",
       "\n",
       "    .dataframe thead th {\n",
       "        text-align: right;\n",
       "    }\n",
       "</style>\n",
       "<table border=\"1\" class=\"dataframe\">\n",
       "  <thead>\n",
       "    <tr style=\"text-align: right;\">\n",
       "      <th></th>\n",
       "      <th>count</th>\n",
       "      <th>unique</th>\n",
       "      <th>top</th>\n",
       "      <th>freq</th>\n",
       "      <th>mean</th>\n",
       "      <th>min</th>\n",
       "      <th>25%</th>\n",
       "      <th>50%</th>\n",
       "      <th>75%</th>\n",
       "      <th>max</th>\n",
       "      <th>std</th>\n",
       "    </tr>\n",
       "  </thead>\n",
       "  <tbody>\n",
       "    <tr>\n",
       "      <th>order_id</th>\n",
       "      <td>113425</td>\n",
       "      <td>99441</td>\n",
       "      <td>8272b63d03f5f79c56e9e4120aec44ef</td>\n",
       "      <td>21</td>\n",
       "      <td>NaN</td>\n",
       "      <td>NaN</td>\n",
       "      <td>NaN</td>\n",
       "      <td>NaN</td>\n",
       "      <td>NaN</td>\n",
       "      <td>NaN</td>\n",
       "      <td>NaN</td>\n",
       "    </tr>\n",
       "    <tr>\n",
       "      <th>customer_id</th>\n",
       "      <td>113425</td>\n",
       "      <td>99441</td>\n",
       "      <td>fc3d1daec319d62d49bfb5e1f83123e9</td>\n",
       "      <td>21</td>\n",
       "      <td>NaN</td>\n",
       "      <td>NaN</td>\n",
       "      <td>NaN</td>\n",
       "      <td>NaN</td>\n",
       "      <td>NaN</td>\n",
       "      <td>NaN</td>\n",
       "      <td>NaN</td>\n",
       "    </tr>\n",
       "    <tr>\n",
       "      <th>order_status</th>\n",
       "      <td>113425</td>\n",
       "      <td>8</td>\n",
       "      <td>delivered</td>\n",
       "      <td>110197</td>\n",
       "      <td>NaN</td>\n",
       "      <td>NaN</td>\n",
       "      <td>NaN</td>\n",
       "      <td>NaN</td>\n",
       "      <td>NaN</td>\n",
       "      <td>NaN</td>\n",
       "      <td>NaN</td>\n",
       "    </tr>\n",
       "    <tr>\n",
       "      <th>order_purchase_timestamp</th>\n",
       "      <td>113425</td>\n",
       "      <td>NaN</td>\n",
       "      <td>NaN</td>\n",
       "      <td>NaN</td>\n",
       "      <td>2017-12-31 12:25:41.686480128</td>\n",
       "      <td>2016-09-04 21:15:19</td>\n",
       "      <td>2017-09-13 11:05:49</td>\n",
       "      <td>2018-01-19 10:37:45</td>\n",
       "      <td>2018-05-04 14:22:16</td>\n",
       "      <td>2018-10-17 17:30:18</td>\n",
       "      <td>NaN</td>\n",
       "    </tr>\n",
       "    <tr>\n",
       "      <th>order_approved_at</th>\n",
       "      <td>113264</td>\n",
       "      <td>NaN</td>\n",
       "      <td>NaN</td>\n",
       "      <td>NaN</td>\n",
       "      <td>2017-12-31 22:40:56.664121088</td>\n",
       "      <td>2016-09-15 12:16:38</td>\n",
       "      <td>2017-09-13 20:25:10.500000</td>\n",
       "      <td>2018-01-19 16:59:52.500000</td>\n",
       "      <td>2018-05-04 18:31:38.500000</td>\n",
       "      <td>2018-09-03 17:40:06</td>\n",
       "      <td>NaN</td>\n",
       "    </tr>\n",
       "    <tr>\n",
       "      <th>order_delivered_carrier_date</th>\n",
       "      <td>111457</td>\n",
       "      <td>NaN</td>\n",
       "      <td>NaN</td>\n",
       "      <td>NaN</td>\n",
       "      <td>2018-01-05 02:17:27.942515968</td>\n",
       "      <td>2016-10-08 10:34:01</td>\n",
       "      <td>2017-09-18 20:37:00</td>\n",
       "      <td>2018-01-24 18:44:33</td>\n",
       "      <td>2018-05-08 13:20:00</td>\n",
       "      <td>2018-09-11 19:48:28</td>\n",
       "      <td>NaN</td>\n",
       "    </tr>\n",
       "    <tr>\n",
       "      <th>order_delivered_customer_date</th>\n",
       "      <td>110196</td>\n",
       "      <td>NaN</td>\n",
       "      <td>NaN</td>\n",
       "      <td>NaN</td>\n",
       "      <td>2018-01-14 13:25:24.023939328</td>\n",
       "      <td>2016-10-11 13:46:32</td>\n",
       "      <td>2017-09-26 20:09:44.500000</td>\n",
       "      <td>2018-02-02 20:57:23</td>\n",
       "      <td>2018-05-15 20:09:21.500000</td>\n",
       "      <td>2018-10-17 13:22:46</td>\n",
       "      <td>NaN</td>\n",
       "    </tr>\n",
       "    <tr>\n",
       "      <th>order_estimated_delivery_date</th>\n",
       "      <td>113425</td>\n",
       "      <td>NaN</td>\n",
       "      <td>NaN</td>\n",
       "      <td>NaN</td>\n",
       "      <td>2018-01-24 08:22:34.875909120</td>\n",
       "      <td>2016-09-30 00:00:00</td>\n",
       "      <td>2017-10-04 00:00:00</td>\n",
       "      <td>2018-02-15 00:00:00</td>\n",
       "      <td>2018-05-25 00:00:00</td>\n",
       "      <td>2018-11-12 00:00:00</td>\n",
       "      <td>NaN</td>\n",
       "    </tr>\n",
       "    <tr>\n",
       "      <th>order_item_id</th>\n",
       "      <td>112650.0</td>\n",
       "      <td>NaN</td>\n",
       "      <td>NaN</td>\n",
       "      <td>NaN</td>\n",
       "      <td>1.197834</td>\n",
       "      <td>1.0</td>\n",
       "      <td>1.0</td>\n",
       "      <td>1.0</td>\n",
       "      <td>1.0</td>\n",
       "      <td>21.0</td>\n",
       "      <td>0.705124</td>\n",
       "    </tr>\n",
       "    <tr>\n",
       "      <th>product_id</th>\n",
       "      <td>112650</td>\n",
       "      <td>32951</td>\n",
       "      <td>aca2eb7d00ea1a7b8ebd4e68314663af</td>\n",
       "      <td>527</td>\n",
       "      <td>NaN</td>\n",
       "      <td>NaN</td>\n",
       "      <td>NaN</td>\n",
       "      <td>NaN</td>\n",
       "      <td>NaN</td>\n",
       "      <td>NaN</td>\n",
       "      <td>NaN</td>\n",
       "    </tr>\n",
       "  </tbody>\n",
       "</table>\n",
       "</div>"
      ],
      "text/plain": [
       "                                  count unique  \\\n",
       "order_id                         113425  99441   \n",
       "customer_id                      113425  99441   \n",
       "order_status                     113425      8   \n",
       "order_purchase_timestamp         113425    NaN   \n",
       "order_approved_at                113264    NaN   \n",
       "order_delivered_carrier_date     111457    NaN   \n",
       "order_delivered_customer_date    110196    NaN   \n",
       "order_estimated_delivery_date    113425    NaN   \n",
       "order_item_id                  112650.0    NaN   \n",
       "product_id                       112650  32951   \n",
       "\n",
       "                                                            top    freq  \\\n",
       "order_id                       8272b63d03f5f79c56e9e4120aec44ef      21   \n",
       "customer_id                    fc3d1daec319d62d49bfb5e1f83123e9      21   \n",
       "order_status                                          delivered  110197   \n",
       "order_purchase_timestamp                                    NaN     NaN   \n",
       "order_approved_at                                           NaN     NaN   \n",
       "order_delivered_carrier_date                                NaN     NaN   \n",
       "order_delivered_customer_date                               NaN     NaN   \n",
       "order_estimated_delivery_date                               NaN     NaN   \n",
       "order_item_id                                               NaN     NaN   \n",
       "product_id                     aca2eb7d00ea1a7b8ebd4e68314663af     527   \n",
       "\n",
       "                                                        mean  \\\n",
       "order_id                                                 NaN   \n",
       "customer_id                                              NaN   \n",
       "order_status                                             NaN   \n",
       "order_purchase_timestamp       2017-12-31 12:25:41.686480128   \n",
       "order_approved_at              2017-12-31 22:40:56.664121088   \n",
       "order_delivered_carrier_date   2018-01-05 02:17:27.942515968   \n",
       "order_delivered_customer_date  2018-01-14 13:25:24.023939328   \n",
       "order_estimated_delivery_date  2018-01-24 08:22:34.875909120   \n",
       "order_item_id                                       1.197834   \n",
       "product_id                                               NaN   \n",
       "\n",
       "                                               min  \\\n",
       "order_id                                       NaN   \n",
       "customer_id                                    NaN   \n",
       "order_status                                   NaN   \n",
       "order_purchase_timestamp       2016-09-04 21:15:19   \n",
       "order_approved_at              2016-09-15 12:16:38   \n",
       "order_delivered_carrier_date   2016-10-08 10:34:01   \n",
       "order_delivered_customer_date  2016-10-11 13:46:32   \n",
       "order_estimated_delivery_date  2016-09-30 00:00:00   \n",
       "order_item_id                                  1.0   \n",
       "product_id                                     NaN   \n",
       "\n",
       "                                                      25%  \\\n",
       "order_id                                              NaN   \n",
       "customer_id                                           NaN   \n",
       "order_status                                          NaN   \n",
       "order_purchase_timestamp              2017-09-13 11:05:49   \n",
       "order_approved_at              2017-09-13 20:25:10.500000   \n",
       "order_delivered_carrier_date          2017-09-18 20:37:00   \n",
       "order_delivered_customer_date  2017-09-26 20:09:44.500000   \n",
       "order_estimated_delivery_date         2017-10-04 00:00:00   \n",
       "order_item_id                                         1.0   \n",
       "product_id                                            NaN   \n",
       "\n",
       "                                                      50%  \\\n",
       "order_id                                              NaN   \n",
       "customer_id                                           NaN   \n",
       "order_status                                          NaN   \n",
       "order_purchase_timestamp              2018-01-19 10:37:45   \n",
       "order_approved_at              2018-01-19 16:59:52.500000   \n",
       "order_delivered_carrier_date          2018-01-24 18:44:33   \n",
       "order_delivered_customer_date         2018-02-02 20:57:23   \n",
       "order_estimated_delivery_date         2018-02-15 00:00:00   \n",
       "order_item_id                                         1.0   \n",
       "product_id                                            NaN   \n",
       "\n",
       "                                                      75%  \\\n",
       "order_id                                              NaN   \n",
       "customer_id                                           NaN   \n",
       "order_status                                          NaN   \n",
       "order_purchase_timestamp              2018-05-04 14:22:16   \n",
       "order_approved_at              2018-05-04 18:31:38.500000   \n",
       "order_delivered_carrier_date          2018-05-08 13:20:00   \n",
       "order_delivered_customer_date  2018-05-15 20:09:21.500000   \n",
       "order_estimated_delivery_date         2018-05-25 00:00:00   \n",
       "order_item_id                                         1.0   \n",
       "product_id                                            NaN   \n",
       "\n",
       "                                               max       std  \n",
       "order_id                                       NaN       NaN  \n",
       "customer_id                                    NaN       NaN  \n",
       "order_status                                   NaN       NaN  \n",
       "order_purchase_timestamp       2018-10-17 17:30:18       NaN  \n",
       "order_approved_at              2018-09-03 17:40:06       NaN  \n",
       "order_delivered_carrier_date   2018-09-11 19:48:28       NaN  \n",
       "order_delivered_customer_date  2018-10-17 13:22:46       NaN  \n",
       "order_estimated_delivery_date  2018-11-12 00:00:00       NaN  \n",
       "order_item_id                                 21.0  0.705124  \n",
       "product_id                                     NaN       NaN  "
      ]
     },
     "metadata": {},
     "output_type": "display_data"
    }
   ],
   "source": [
    "# --- 2.5 Statistiques descriptives globales ---\n",
    "desc = df.describe(include=\"all\").T\n",
    "display(desc.head(10))"
   ]
  },
  {
   "cell_type": "code",
   "execution_count": 15,
   "id": "036667e9",
   "metadata": {},
   "outputs": [
    {
     "name": "stdout",
     "output_type": "stream",
     "text": [
      " price: 8427 valeurs extrêmes détectées (hors [-102.6, 277.4])\n",
      " freight_value: 12134 valeurs extrêmes détectées (hors [1.0, 33.3])\n",
      " product_weight_g: 15807 valeurs extrêmes détectées (hors [-1950.0, 4050.0])\n",
      " payment_value: 9285 valeurs extrêmes détectées (hors [-128.8, 389.9])\n"
     ]
    }
   ],
   "source": [
    "\n",
    "# --- 2.6 Vérification des valeurs extrêmes sur certaines variables numériques ---\n",
    "num_cols = [\"price\", \"freight_value\", \"product_weight_g\", \"payment_value\", \"days_to_deliver\"]\n",
    "for col in num_cols:\n",
    "    if col in df.columns:\n",
    "        q1, q3 = df[col].quantile([0.25, 0.75])\n",
    "        iqr = q3 - q1\n",
    "        low, high = q1 - 1.5 * iqr, q3 + 1.5 * iqr\n",
    "        outliers = df[(df[col] < low) | (df[col] > high)].shape[0]\n",
    "        print(f\" {col}: {outliers} valeurs extrêmes détectées (hors [{low:.1f}, {high:.1f}])\")\n"
   ]
  },
  {
   "cell_type": "markdown",
   "id": "4af46a6f",
   "metadata": {},
   "source": [
    "# Nettoyage et préparation des données\n"
   ]
  },
  {
   "cell_type": "code",
   "execution_count": 17,
   "id": "81c27f78",
   "metadata": {},
   "outputs": [
    {
     "name": "stdout",
     "output_type": "stream",
     "text": [
      " Aucun doublon détecté.\n",
      " Lignes sans date de livraison supprimées : 0\n"
     ]
    }
   ],
   "source": [
    "# --- 3.1 Suppression des doublons (si existants) ---\n",
    "nb_duplicates = df.duplicated().sum()\n",
    "if nb_duplicates > 0:\n",
    "    df = df.drop_duplicates()\n",
    "    print(f\" {nb_duplicates} doublons supprimés.\")\n",
    "else:\n",
    "    print(\" Aucun doublon détecté.\")\n",
    "\n",
    "# --- 3.2 Suppression des lignes sans date de livraison effective ---\n",
    "if \"order_delivered_customer_date\" in df.columns:\n",
    "    before = len(df)\n",
    "    df = df[df[\"order_delivered_customer_date\"].notna()]\n",
    "    print(f\" Lignes sans date de livraison supprimées : {before - len(df)}\")"
   ]
  },
  {
   "cell_type": "code",
   "execution_count": 18,
   "id": "b6a0e68a",
   "metadata": {},
   "outputs": [],
   "source": [
    "# --- 3.3 Suppression des valeurs aberrantes sur les délais de livraison ---\n",
    "if \"days_to_deliver\" in df.columns:\n",
    "    before = len(df)\n",
    "    df = df[df[\"days_to_deliver\"].between(0, 60)]  # 0 à 60 jours\n",
    "    print(f\" Commandes avec délais aberrants supprimées : {before - len(df)}\")"
   ]
  },
  {
   "cell_type": "code",
   "execution_count": 21,
   "id": "915715a1",
   "metadata": {},
   "outputs": [],
   "source": [
    "# --- 3.4 Traitement des valeurs manquantes sur les variables numériques ---\n",
    "num_cols = [\"price\", \"freight_value\", \"product_weight_g\", \"payment_value\"]\n",
    "for col in num_cols:\n",
    "    if col in df.columns:\n",
    "        missing = df[col].isna().sum()\n",
    "        if missing > 0:\n",
    "            median_value = df[col].median()\n",
    "            df[col].fillna(median_value, inplace=True)\n",
    "            print(f\" {missing} valeurs manquantes remplies par la médiane pour '{col}'.\")"
   ]
  },
  {
   "cell_type": "code",
   "execution_count": 22,
   "id": "0b1670ff",
   "metadata": {},
   "outputs": [
    {
     "name": "stdout",
     "output_type": "stream",
     "text": [
      "🔍 Nombre total de valeurs manquantes restantes : 6221\n",
      "Valeurs négatives corrigées.\n"
     ]
    }
   ],
   "source": [
    "# --- 3.5 Vérification des NaN restants ---\n",
    "remaining_missing = df.isna().sum().sum()\n",
    "print(f\"🔍 Nombre total de valeurs manquantes restantes : {remaining_missing}\")\n",
    "\n",
    "# --- 3.6 Nettoyage des valeurs négatives (si anomalies) ---\n",
    "for col in [\"price\", \"freight_value\", \"payment_value\"]:\n",
    "    if col in df.columns:\n",
    "        neg = df[df[col] < 0].shape[0]\n",
    "        if neg > 0:\n",
    "            df.loc[df[col] < 0, col] = np.nan\n",
    "            print(f\"⚠️ {neg} valeurs négatives détectées dans '{col}', remplacées par NaN.\")\n",
    "            df[col].fillna(df[col].median(), inplace=True)\n",
    "print(\"Valeurs négatives corrigées.\")"
   ]
  },
  {
   "cell_type": "code",
   "execution_count": 23,
   "id": "be710ba8",
   "metadata": {},
   "outputs": [
    {
     "name": "stdout",
     "output_type": "stream",
     "text": [
      "\n",
      " Nettoyage terminé. Le DataFrame est prêt pour l'analyse exploratoire.\n",
      "Forme finale du DataFrame : (110196, 28)\n"
     ]
    }
   ],
   "source": [
    "# --- 3.7 Réinitialisation de l’index ---\n",
    "df.reset_index(drop=True, inplace=True)\n",
    "\n",
    "print(\"\\n Nettoyage terminé. Le DataFrame est prêt pour l'analyse exploratoire.\")\n",
    "print(f\"Forme finale du DataFrame : {df.shape}\")"
   ]
  },
  {
   "cell_type": "markdown",
   "id": "c28bfe9f",
   "metadata": {},
   "source": [
    "# 4 Statistiques descriptives et indicateurs clés\n"
   ]
  },
  {
   "cell_type": "code",
   "execution_count": 25,
   "id": "eabefdb2",
   "metadata": {},
   "outputs": [
    {
     "name": "stdout",
     "output_type": "stream",
     "text": [
      " Nombre d'observations : 110,196\n",
      " Nombre de variables : 28\n"
     ]
    }
   ],
   "source": [
    "# --- 4.1 Dimensions du DataFrame ---\n",
    "nb_lignes, nb_colonnes = df.shape\n",
    "print(f\" Nombre d'observations : {nb_lignes:,}\")\n",
    "print(f\" Nombre de variables : {nb_colonnes}\")"
   ]
  },
  {
   "cell_type": "code",
   "execution_count": 26,
   "id": "33061130",
   "metadata": {},
   "outputs": [
    {
     "name": "stdout",
     "output_type": "stream",
     "text": [
      "Variable 'delivered_late' non trouvée.\n"
     ]
    }
   ],
   "source": [
    "# --- 4.2 Taux de retard global ---\n",
    "if \"delivered_late\" in df.columns:\n",
    "    late_rate = df[\"delivered_late\"].mean()\n",
    "    print(f\"Taux de retard global : {late_rate:.2%}\")\n",
    "else:\n",
    "    print(\"Variable 'delivered_late' non trouvée.\")"
   ]
  },
  {
   "cell_type": "code",
   "execution_count": 27,
   "id": "da067d6a",
   "metadata": {},
   "outputs": [],
   "source": [
    "# --- 4.3 Délai moyen de livraison ---\n",
    "if \"days_to_deliver\" in df.columns:\n",
    "    avg_days = df[\"days_to_deliver\"].mean()\n",
    "    median_days = df[\"days_to_deliver\"].median()\n",
    "    print(f\"⏱️ Délai moyen de livraison : {avg_days:.1f} jours (médiane : {median_days:.1f})\")\n"
   ]
  },
  {
   "cell_type": "code",
   "execution_count": 28,
   "id": "1098c556",
   "metadata": {},
   "outputs": [
    {
     "name": "stdout",
     "output_type": "stream",
     "text": [
      " Prix moyen produit : 119.98 R$\n",
      " Coût moyen de fret : 19.95 R$\n"
     ]
    }
   ],
   "source": [
    "# --- 4.4 Prix moyen et distribution du fret ---\n",
    "if \"price\" in df.columns and \"freight_value\" in df.columns:\n",
    "    print(f\" Prix moyen produit : {df['price'].mean():.2f} R$\")\n",
    "    print(f\" Coût moyen de fret : {df['freight_value'].mean():.2f} R$\")\n"
   ]
  },
  {
   "cell_type": "code",
   "execution_count": 30,
   "id": "941452e7",
   "metadata": {},
   "outputs": [
    {
     "name": "stdout",
     "output_type": "stream",
     "text": [
      "Montant moyen payé : 179.46 R$\n",
      "Nombre moyen d'échéances : 3.0\n"
     ]
    }
   ],
   "source": [
    "# --- 4.5 Montant total payé et nombre moyen d’échéances ---\n",
    "if \"payment_value\" in df.columns and \"payment_installments\" in df.columns:\n",
    "    print(f\"Montant moyen payé : {df['payment_value'].mean():.2f} R$\")\n",
    "    print(f\"Nombre moyen d'échéances : {df['payment_installments'].mean():.1f}\")"
   ]
  },
  {
   "cell_type": "code",
   "execution_count": 31,
   "id": "c16e9e9e",
   "metadata": {},
   "outputs": [
    {
     "name": "stdout",
     "output_type": "stream",
     "text": [
      "\n",
      " Top 10 des États clients :\n"
     ]
    },
    {
     "data": {
      "text/html": [
       "<div>\n",
       "<style scoped>\n",
       "    .dataframe tbody tr th:only-of-type {\n",
       "        vertical-align: middle;\n",
       "    }\n",
       "\n",
       "    .dataframe tbody tr th {\n",
       "        vertical-align: top;\n",
       "    }\n",
       "\n",
       "    .dataframe thead th {\n",
       "        text-align: right;\n",
       "    }\n",
       "</style>\n",
       "<table border=\"1\" class=\"dataframe\">\n",
       "  <thead>\n",
       "    <tr style=\"text-align: right;\">\n",
       "      <th></th>\n",
       "      <th>commandes</th>\n",
       "      <th>count</th>\n",
       "    </tr>\n",
       "  </thead>\n",
       "  <tbody>\n",
       "    <tr>\n",
       "      <th>0</th>\n",
       "      <td>SP</td>\n",
       "      <td>46443</td>\n",
       "    </tr>\n",
       "    <tr>\n",
       "      <th>1</th>\n",
       "      <td>RJ</td>\n",
       "      <td>14146</td>\n",
       "    </tr>\n",
       "    <tr>\n",
       "      <th>2</th>\n",
       "      <td>MG</td>\n",
       "      <td>12917</td>\n",
       "    </tr>\n",
       "    <tr>\n",
       "      <th>3</th>\n",
       "      <td>RS</td>\n",
       "      <td>6133</td>\n",
       "    </tr>\n",
       "    <tr>\n",
       "      <th>4</th>\n",
       "      <td>PR</td>\n",
       "      <td>5649</td>\n",
       "    </tr>\n",
       "    <tr>\n",
       "      <th>5</th>\n",
       "      <td>SC</td>\n",
       "      <td>4098</td>\n",
       "    </tr>\n",
       "    <tr>\n",
       "      <th>6</th>\n",
       "      <td>BA</td>\n",
       "      <td>3683</td>\n",
       "    </tr>\n",
       "    <tr>\n",
       "      <th>7</th>\n",
       "      <td>DF</td>\n",
       "      <td>2355</td>\n",
       "    </tr>\n",
       "    <tr>\n",
       "      <th>8</th>\n",
       "      <td>GO</td>\n",
       "      <td>2277</td>\n",
       "    </tr>\n",
       "    <tr>\n",
       "      <th>9</th>\n",
       "      <td>ES</td>\n",
       "      <td>2225</td>\n",
       "    </tr>\n",
       "  </tbody>\n",
       "</table>\n",
       "</div>"
      ],
      "text/plain": [
       "  commandes  count\n",
       "0        SP  46443\n",
       "1        RJ  14146\n",
       "2        MG  12917\n",
       "3        RS   6133\n",
       "4        PR   5649\n",
       "5        SC   4098\n",
       "6        BA   3683\n",
       "7        DF   2355\n",
       "8        GO   2277\n",
       "9        ES   2225"
      ]
     },
     "metadata": {},
     "output_type": "display_data"
    }
   ],
   "source": [
    "# --- 4.7 États les plus représentés chez les clients ---\n",
    "if \"customer_state\" in df.columns:\n",
    "    top_states = (\n",
    "        df[\"customer_state\"]\n",
    "        .value_counts()\n",
    "        .head(10)\n",
    "        .reset_index()\n",
    "        .rename(columns={\"index\": \"État\", \"customer_state\": \"commandes\"})\n",
    "    )\n",
    "    print(\"\\n Top 10 des États clients :\")\n",
    "    display(top_states)\n"
   ]
  },
  {
   "cell_type": "code",
   "execution_count": 39,
   "id": "8ae63977",
   "metadata": {},
   "outputs": [],
   "source": [
    "# Vérifier la présence de la colonne 'delivered_late'\n",
    "if \"delivered_late\" not in df.columns:\n",
    "    print(\" Colonne 'delivered_late' absente — création automatique.\")\n",
    "    if {\"order_delivered_customer_date\", \"order_estimated_delivery_date\"}.issubset(df.columns):\n",
    "        df[\"delivered_late\"] = (\n",
    "            df[\"order_delivered_customer_date\"] > df[\"order_estimated_delivery_date\"]\n",
    "        ).astype(int)\n",
    "        print(\" Colonne 'delivered_late' recréée avec succès.\")\n",
    "    else:\n",
    "        raise KeyError(\" Impossible de créer 'delivered_late' : colonnes de dates manquantes.\")\n"
   ]
  },
  {
   "cell_type": "code",
   "execution_count": null,
   "id": "b560891c",
   "metadata": {},
   "outputs": [],
   "source": [
    "# Vérifier la présence de la colonne 'delivered_late'\n",
    "if \"delivered_late\" not in df.columns:\n",
    "    print(\"⚠️ Colonne 'delivered_late' absente — création automatique.\")\n",
    "    if {\"order_delivered_customer_date\", \"order_estimated_delivery_date\"}.issubset(df.columns):\n",
    "        df[\"delivered_late\"] = (\n",
    "            df[\"order_delivered_customer_date\"] > df[\"order_estimated_delivery_date\"]\n",
    "        ).astype(int)\n",
    "        print(\"✅ Colonne 'delivered_late' recréée avec succès.\")\n",
    "    else:\n",
    "        raise KeyError(\"Impossible de créer 'delivered_late' : colonnes de dates manquantes.\")\n"
   ]
  },
  {
   "cell_type": "code",
   "execution_count": 32,
   "id": "22fde283",
   "metadata": {},
   "outputs": [],
   "source": [
    "# --- 4.8 Répartition du retard par mois (si dates dispo) ---\n",
    "if \"order_purchase_timestamp\" in df.columns and \"delivered_late\" in df.columns:\n",
    "    monthly = (\n",
    "        df.groupby(df[\"order_purchase_timestamp\"].dt.to_period(\"M\"))[\"delivered_late\"]\n",
    "        .mean()\n",
    "        .reset_index()\n",
    "    )\n",
    "    monthly[\"order_purchase_timestamp\"] = monthly[\"order_purchase_timestamp\"].astype(str)\n",
    "\n",
    "    fig = px.line(\n",
    "        monthly,\n",
    "        x=\"order_purchase_timestamp\",\n",
    "        y=\"delivered_late\",\n",
    "        title=\" Évolution du taux de retard au fil du temps\",\n",
    "        markers=True\n",
    "    )\n",
    "    fig.update_yaxes(title=\"Taux de retard\", tickformat=\".0%\")\n",
    "    fig.show()"
   ]
  },
  {
   "cell_type": "code",
   "execution_count": 42,
   "id": "db4dd456",
   "metadata": {},
   "outputs": [
    {
     "data": {
      "application/vnd.plotly.v1+json": {
       "config": {
        "plotlyServerURL": "https://plot.ly"
       },
       "data": [
        {
         "hovertemplate": "order_purchase_timestamp=%{x}<br>delivered_late=%{y}<extra></extra>",
         "legendgroup": "",
         "line": {
          "color": "#636efa",
          "dash": "solid"
         },
         "marker": {
          "symbol": "circle"
         },
         "mode": "lines+markers",
         "name": "",
         "orientation": "v",
         "showlegend": false,
         "type": "scatter",
         "x": [
          "2016-09",
          "2016-10",
          "2016-12",
          "2017-01",
          "2017-02",
          "2017-03",
          "2017-04",
          "2017-05",
          "2017-06",
          "2017-07",
          "2017-08",
          "2017-09",
          "2017-10",
          "2017-11",
          "2017-12",
          "2018-01",
          "2018-02",
          "2018-03",
          "2018-04",
          "2018-05",
          "2018-06",
          "2018-07",
          "2018-08"
         ],
         "xaxis": "x",
         "y": {
          "bdata": "AAAAAAAA8D+kzL+vm0KDPwAAAAAAAAAAg05ozDcpnT/FtHAHxRWhP3MGh4jHzqw/c/GBqH07sz8BDpeCQlCjP48H+f5NOaM/KfEzSvyMoj8EbPil4h2gPwhkRfzEQ6o/2TMQlY7sqT9dFCvT/bPBP50H2FHS77Q/wSzHlyfBsD9XsrY25yfEPzWmO3RIM8o/iLoD+syHqD/ZED++KnS0P6qZrstneYs/vs9l4ftcpj/VvbgVK326Pw==",
          "dtype": "f8"
         },
         "yaxis": "y"
        }
       ],
       "layout": {
        "legend": {
         "tracegroupgap": 0
        },
        "template": {
         "data": {
          "bar": [
           {
            "error_x": {
             "color": "#2a3f5f"
            },
            "error_y": {
             "color": "#2a3f5f"
            },
            "marker": {
             "line": {
              "color": "#E5ECF6",
              "width": 0.5
             },
             "pattern": {
              "fillmode": "overlay",
              "size": 10,
              "solidity": 0.2
             }
            },
            "type": "bar"
           }
          ],
          "barpolar": [
           {
            "marker": {
             "line": {
              "color": "#E5ECF6",
              "width": 0.5
             },
             "pattern": {
              "fillmode": "overlay",
              "size": 10,
              "solidity": 0.2
             }
            },
            "type": "barpolar"
           }
          ],
          "carpet": [
           {
            "aaxis": {
             "endlinecolor": "#2a3f5f",
             "gridcolor": "white",
             "linecolor": "white",
             "minorgridcolor": "white",
             "startlinecolor": "#2a3f5f"
            },
            "baxis": {
             "endlinecolor": "#2a3f5f",
             "gridcolor": "white",
             "linecolor": "white",
             "minorgridcolor": "white",
             "startlinecolor": "#2a3f5f"
            },
            "type": "carpet"
           }
          ],
          "choropleth": [
           {
            "colorbar": {
             "outlinewidth": 0,
             "ticks": ""
            },
            "type": "choropleth"
           }
          ],
          "contour": [
           {
            "colorbar": {
             "outlinewidth": 0,
             "ticks": ""
            },
            "colorscale": [
             [
              0,
              "#0d0887"
             ],
             [
              0.1111111111111111,
              "#46039f"
             ],
             [
              0.2222222222222222,
              "#7201a8"
             ],
             [
              0.3333333333333333,
              "#9c179e"
             ],
             [
              0.4444444444444444,
              "#bd3786"
             ],
             [
              0.5555555555555556,
              "#d8576b"
             ],
             [
              0.6666666666666666,
              "#ed7953"
             ],
             [
              0.7777777777777778,
              "#fb9f3a"
             ],
             [
              0.8888888888888888,
              "#fdca26"
             ],
             [
              1,
              "#f0f921"
             ]
            ],
            "type": "contour"
           }
          ],
          "contourcarpet": [
           {
            "colorbar": {
             "outlinewidth": 0,
             "ticks": ""
            },
            "type": "contourcarpet"
           }
          ],
          "heatmap": [
           {
            "colorbar": {
             "outlinewidth": 0,
             "ticks": ""
            },
            "colorscale": [
             [
              0,
              "#0d0887"
             ],
             [
              0.1111111111111111,
              "#46039f"
             ],
             [
              0.2222222222222222,
              "#7201a8"
             ],
             [
              0.3333333333333333,
              "#9c179e"
             ],
             [
              0.4444444444444444,
              "#bd3786"
             ],
             [
              0.5555555555555556,
              "#d8576b"
             ],
             [
              0.6666666666666666,
              "#ed7953"
             ],
             [
              0.7777777777777778,
              "#fb9f3a"
             ],
             [
              0.8888888888888888,
              "#fdca26"
             ],
             [
              1,
              "#f0f921"
             ]
            ],
            "type": "heatmap"
           }
          ],
          "histogram": [
           {
            "marker": {
             "pattern": {
              "fillmode": "overlay",
              "size": 10,
              "solidity": 0.2
             }
            },
            "type": "histogram"
           }
          ],
          "histogram2d": [
           {
            "colorbar": {
             "outlinewidth": 0,
             "ticks": ""
            },
            "colorscale": [
             [
              0,
              "#0d0887"
             ],
             [
              0.1111111111111111,
              "#46039f"
             ],
             [
              0.2222222222222222,
              "#7201a8"
             ],
             [
              0.3333333333333333,
              "#9c179e"
             ],
             [
              0.4444444444444444,
              "#bd3786"
             ],
             [
              0.5555555555555556,
              "#d8576b"
             ],
             [
              0.6666666666666666,
              "#ed7953"
             ],
             [
              0.7777777777777778,
              "#fb9f3a"
             ],
             [
              0.8888888888888888,
              "#fdca26"
             ],
             [
              1,
              "#f0f921"
             ]
            ],
            "type": "histogram2d"
           }
          ],
          "histogram2dcontour": [
           {
            "colorbar": {
             "outlinewidth": 0,
             "ticks": ""
            },
            "colorscale": [
             [
              0,
              "#0d0887"
             ],
             [
              0.1111111111111111,
              "#46039f"
             ],
             [
              0.2222222222222222,
              "#7201a8"
             ],
             [
              0.3333333333333333,
              "#9c179e"
             ],
             [
              0.4444444444444444,
              "#bd3786"
             ],
             [
              0.5555555555555556,
              "#d8576b"
             ],
             [
              0.6666666666666666,
              "#ed7953"
             ],
             [
              0.7777777777777778,
              "#fb9f3a"
             ],
             [
              0.8888888888888888,
              "#fdca26"
             ],
             [
              1,
              "#f0f921"
             ]
            ],
            "type": "histogram2dcontour"
           }
          ],
          "mesh3d": [
           {
            "colorbar": {
             "outlinewidth": 0,
             "ticks": ""
            },
            "type": "mesh3d"
           }
          ],
          "parcoords": [
           {
            "line": {
             "colorbar": {
              "outlinewidth": 0,
              "ticks": ""
             }
            },
            "type": "parcoords"
           }
          ],
          "pie": [
           {
            "automargin": true,
            "type": "pie"
           }
          ],
          "scatter": [
           {
            "fillpattern": {
             "fillmode": "overlay",
             "size": 10,
             "solidity": 0.2
            },
            "type": "scatter"
           }
          ],
          "scatter3d": [
           {
            "line": {
             "colorbar": {
              "outlinewidth": 0,
              "ticks": ""
             }
            },
            "marker": {
             "colorbar": {
              "outlinewidth": 0,
              "ticks": ""
             }
            },
            "type": "scatter3d"
           }
          ],
          "scattercarpet": [
           {
            "marker": {
             "colorbar": {
              "outlinewidth": 0,
              "ticks": ""
             }
            },
            "type": "scattercarpet"
           }
          ],
          "scattergeo": [
           {
            "marker": {
             "colorbar": {
              "outlinewidth": 0,
              "ticks": ""
             }
            },
            "type": "scattergeo"
           }
          ],
          "scattergl": [
           {
            "marker": {
             "colorbar": {
              "outlinewidth": 0,
              "ticks": ""
             }
            },
            "type": "scattergl"
           }
          ],
          "scattermap": [
           {
            "marker": {
             "colorbar": {
              "outlinewidth": 0,
              "ticks": ""
             }
            },
            "type": "scattermap"
           }
          ],
          "scattermapbox": [
           {
            "marker": {
             "colorbar": {
              "outlinewidth": 0,
              "ticks": ""
             }
            },
            "type": "scattermapbox"
           }
          ],
          "scatterpolar": [
           {
            "marker": {
             "colorbar": {
              "outlinewidth": 0,
              "ticks": ""
             }
            },
            "type": "scatterpolar"
           }
          ],
          "scatterpolargl": [
           {
            "marker": {
             "colorbar": {
              "outlinewidth": 0,
              "ticks": ""
             }
            },
            "type": "scatterpolargl"
           }
          ],
          "scatterternary": [
           {
            "marker": {
             "colorbar": {
              "outlinewidth": 0,
              "ticks": ""
             }
            },
            "type": "scatterternary"
           }
          ],
          "surface": [
           {
            "colorbar": {
             "outlinewidth": 0,
             "ticks": ""
            },
            "colorscale": [
             [
              0,
              "#0d0887"
             ],
             [
              0.1111111111111111,
              "#46039f"
             ],
             [
              0.2222222222222222,
              "#7201a8"
             ],
             [
              0.3333333333333333,
              "#9c179e"
             ],
             [
              0.4444444444444444,
              "#bd3786"
             ],
             [
              0.5555555555555556,
              "#d8576b"
             ],
             [
              0.6666666666666666,
              "#ed7953"
             ],
             [
              0.7777777777777778,
              "#fb9f3a"
             ],
             [
              0.8888888888888888,
              "#fdca26"
             ],
             [
              1,
              "#f0f921"
             ]
            ],
            "type": "surface"
           }
          ],
          "table": [
           {
            "cells": {
             "fill": {
              "color": "#EBF0F8"
             },
             "line": {
              "color": "white"
             }
            },
            "header": {
             "fill": {
              "color": "#C8D4E3"
             },
             "line": {
              "color": "white"
             }
            },
            "type": "table"
           }
          ]
         },
         "layout": {
          "annotationdefaults": {
           "arrowcolor": "#2a3f5f",
           "arrowhead": 0,
           "arrowwidth": 1
          },
          "autotypenumbers": "strict",
          "coloraxis": {
           "colorbar": {
            "outlinewidth": 0,
            "ticks": ""
           }
          },
          "colorscale": {
           "diverging": [
            [
             0,
             "#8e0152"
            ],
            [
             0.1,
             "#c51b7d"
            ],
            [
             0.2,
             "#de77ae"
            ],
            [
             0.3,
             "#f1b6da"
            ],
            [
             0.4,
             "#fde0ef"
            ],
            [
             0.5,
             "#f7f7f7"
            ],
            [
             0.6,
             "#e6f5d0"
            ],
            [
             0.7,
             "#b8e186"
            ],
            [
             0.8,
             "#7fbc41"
            ],
            [
             0.9,
             "#4d9221"
            ],
            [
             1,
             "#276419"
            ]
           ],
           "sequential": [
            [
             0,
             "#0d0887"
            ],
            [
             0.1111111111111111,
             "#46039f"
            ],
            [
             0.2222222222222222,
             "#7201a8"
            ],
            [
             0.3333333333333333,
             "#9c179e"
            ],
            [
             0.4444444444444444,
             "#bd3786"
            ],
            [
             0.5555555555555556,
             "#d8576b"
            ],
            [
             0.6666666666666666,
             "#ed7953"
            ],
            [
             0.7777777777777778,
             "#fb9f3a"
            ],
            [
             0.8888888888888888,
             "#fdca26"
            ],
            [
             1,
             "#f0f921"
            ]
           ],
           "sequentialminus": [
            [
             0,
             "#0d0887"
            ],
            [
             0.1111111111111111,
             "#46039f"
            ],
            [
             0.2222222222222222,
             "#7201a8"
            ],
            [
             0.3333333333333333,
             "#9c179e"
            ],
            [
             0.4444444444444444,
             "#bd3786"
            ],
            [
             0.5555555555555556,
             "#d8576b"
            ],
            [
             0.6666666666666666,
             "#ed7953"
            ],
            [
             0.7777777777777778,
             "#fb9f3a"
            ],
            [
             0.8888888888888888,
             "#fdca26"
            ],
            [
             1,
             "#f0f921"
            ]
           ]
          },
          "colorway": [
           "#636efa",
           "#EF553B",
           "#00cc96",
           "#ab63fa",
           "#FFA15A",
           "#19d3f3",
           "#FF6692",
           "#B6E880",
           "#FF97FF",
           "#FECB52"
          ],
          "font": {
           "color": "#2a3f5f"
          },
          "geo": {
           "bgcolor": "white",
           "lakecolor": "white",
           "landcolor": "#E5ECF6",
           "showlakes": true,
           "showland": true,
           "subunitcolor": "white"
          },
          "hoverlabel": {
           "align": "left"
          },
          "hovermode": "closest",
          "mapbox": {
           "style": "light"
          },
          "paper_bgcolor": "white",
          "plot_bgcolor": "#E5ECF6",
          "polar": {
           "angularaxis": {
            "gridcolor": "white",
            "linecolor": "white",
            "ticks": ""
           },
           "bgcolor": "#E5ECF6",
           "radialaxis": {
            "gridcolor": "white",
            "linecolor": "white",
            "ticks": ""
           }
          },
          "scene": {
           "xaxis": {
            "backgroundcolor": "#E5ECF6",
            "gridcolor": "white",
            "gridwidth": 2,
            "linecolor": "white",
            "showbackground": true,
            "ticks": "",
            "zerolinecolor": "white"
           },
           "yaxis": {
            "backgroundcolor": "#E5ECF6",
            "gridcolor": "white",
            "gridwidth": 2,
            "linecolor": "white",
            "showbackground": true,
            "ticks": "",
            "zerolinecolor": "white"
           },
           "zaxis": {
            "backgroundcolor": "#E5ECF6",
            "gridcolor": "white",
            "gridwidth": 2,
            "linecolor": "white",
            "showbackground": true,
            "ticks": "",
            "zerolinecolor": "white"
           }
          },
          "shapedefaults": {
           "line": {
            "color": "#2a3f5f"
           }
          },
          "ternary": {
           "aaxis": {
            "gridcolor": "white",
            "linecolor": "white",
            "ticks": ""
           },
           "baxis": {
            "gridcolor": "white",
            "linecolor": "white",
            "ticks": ""
           },
           "bgcolor": "#E5ECF6",
           "caxis": {
            "gridcolor": "white",
            "linecolor": "white",
            "ticks": ""
           }
          },
          "title": {
           "x": 0.05
          },
          "xaxis": {
           "automargin": true,
           "gridcolor": "white",
           "linecolor": "white",
           "ticks": "",
           "title": {
            "standoff": 15
           },
           "zerolinecolor": "white",
           "zerolinewidth": 2
          },
          "yaxis": {
           "automargin": true,
           "gridcolor": "white",
           "linecolor": "white",
           "ticks": "",
           "title": {
            "standoff": 15
           },
           "zerolinecolor": "white",
           "zerolinewidth": 2
          }
         }
        },
        "title": {
         "text": "Évolution du taux de retard au fil du temps"
        },
        "xaxis": {
         "anchor": "y",
         "domain": [
          0,
          1
         ],
         "title": {
          "text": "order_purchase_timestamp"
         }
        },
        "yaxis": {
         "anchor": "x",
         "domain": [
          0,
          1
         ],
         "tickformat": ".0%",
         "title": {
          "text": "Taux de retard"
         }
        }
       }
      }
     },
     "metadata": {},
     "output_type": "display_data"
    }
   ],
   "source": [
    "monthly = (\n",
    "    df.groupby(df[\"order_purchase_timestamp\"].dt.to_period(\"M\"))[\"delivered_late\"]\n",
    "    .mean()\n",
    "    .reset_index()\n",
    ")\n",
    "monthly[\"order_purchase_timestamp\"] = monthly[\"order_purchase_timestamp\"].astype(str)\n",
    "\n",
    "fig = px.line(\n",
    "    monthly,\n",
    "    x=\"order_purchase_timestamp\",\n",
    "    y=\"delivered_late\",\n",
    "    title=\"Évolution du taux de retard au fil du temps\",\n",
    "    markers=True\n",
    ")\n",
    "fig.update_yaxes(title=\"Taux de retard\", tickformat=\".0%\")\n",
    "fig.show()\n"
   ]
  },
  {
   "cell_type": "code",
   "execution_count": null,
   "id": "b087e192",
   "metadata": {},
   "outputs": [],
   "source": []
  }
 ],
 "metadata": {
  "kernelspec": {
   "display_name": "venv",
   "language": "python",
   "name": "python3"
  },
  "language_info": {
   "codemirror_mode": {
    "name": "ipython",
    "version": 3
   },
   "file_extension": ".py",
   "mimetype": "text/x-python",
   "name": "python",
   "nbconvert_exporter": "python",
   "pygments_lexer": "ipython3",
   "version": "3.11.5"
  }
 },
 "nbformat": 4,
 "nbformat_minor": 5
}
